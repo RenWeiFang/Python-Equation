{
 "cells": [
  {
   "cell_type": "code",
   "execution_count": 1,
   "id": "0636fe85-5d97-43fe-bd91-6298ac924ede",
   "metadata": {},
   "outputs": [],
   "source": [
    "import numpy as np"
   ]
  },
  {
   "cell_type": "code",
   "execution_count": 2,
   "id": "691b8bc6-c68c-49f5-90ec-4ec206c36dfd",
   "metadata": {},
   "outputs": [],
   "source": [
    "A = np.array([[3,-9],[2,4]])"
   ]
  },
  {
   "cell_type": "code",
   "execution_count": 3,
   "id": "219fe9d1-c8e0-48d5-9e06-edf620b3d3af",
   "metadata": {},
   "outputs": [
    {
     "name": "stdout",
     "output_type": "stream",
     "text": [
      "[[ 3 -9]\n",
      " [ 2  4]]\n"
     ]
    }
   ],
   "source": [
    "print(A)"
   ]
  },
  {
   "cell_type": "code",
   "execution_count": 4,
   "id": "2f8a9594-3dd5-427c-970b-7c1d256c96ed",
   "metadata": {},
   "outputs": [],
   "source": [
    "B= np.array([-42,2])"
   ]
  },
  {
   "cell_type": "code",
   "execution_count": 5,
   "id": "98ad753b-426f-47e5-ba53-183192bd77b9",
   "metadata": {},
   "outputs": [],
   "source": [
    "Z = np.linalg.solve(A,B)"
   ]
  },
  {
   "cell_type": "code",
   "execution_count": 6,
   "id": "7c897973-9f31-497d-96bc-591feaa90170",
   "metadata": {},
   "outputs": [
    {
     "name": "stdout",
     "output_type": "stream",
     "text": [
      "[-5.  3.]\n"
     ]
    }
   ],
   "source": [
    "print(Z)"
   ]
  },
  {
   "cell_type": "code",
   "execution_count": 7,
   "id": "a9354705-5758-4e2e-bd5a-a6c438893f1b",
   "metadata": {},
   "outputs": [],
   "source": [
    "M= np.array([[1,-2,-1],[2,2,-1],[-1,-1,2]])"
   ]
  },
  {
   "cell_type": "code",
   "execution_count": 8,
   "id": "b49944e8-91a3-4ff4-8b48-8fd34379e432",
   "metadata": {},
   "outputs": [
    {
     "name": "stdout",
     "output_type": "stream",
     "text": [
      "[[ 1 -2 -1]\n",
      " [ 2  2 -1]\n",
      " [-1 -1  2]]\n"
     ]
    }
   ],
   "source": [
    "print(M)"
   ]
  },
  {
   "cell_type": "code",
   "execution_count": 9,
   "id": "7640af99-c35b-41c8-9351-cd5868836bf3",
   "metadata": {},
   "outputs": [],
   "source": [
    "c=np.array([6,1,1])"
   ]
  },
  {
   "cell_type": "code",
   "execution_count": 10,
   "id": "e5c27b6c-2068-46ff-8202-ddaecc3e3133",
   "metadata": {},
   "outputs": [],
   "source": [
    "y=np.linalg.solve(M,c)"
   ]
  },
  {
   "cell_type": "code",
   "execution_count": 11,
   "id": "aba6cd39-0ac8-4322-80e9-788257303309",
   "metadata": {},
   "outputs": [
    {
     "name": "stdout",
     "output_type": "stream",
     "text": [
      "[ 3. -2.  1.]\n"
     ]
    }
   ],
   "source": [
    "print(y)"
   ]
  },
  {
   "cell_type": "code",
   "execution_count": null,
   "id": "b482098d-f9cc-4778-86c4-6ce6d674a498",
   "metadata": {},
   "outputs": [],
   "source": []
  }
 ],
 "metadata": {
  "kernelspec": {
   "display_name": "Python 3 (ipykernel)",
   "language": "python",
   "name": "python3"
  },
  "language_info": {
   "codemirror_mode": {
    "name": "ipython",
    "version": 3
   },
   "file_extension": ".py",
   "mimetype": "text/x-python",
   "name": "python",
   "nbconvert_exporter": "python",
   "pygments_lexer": "ipython3",
   "version": "3.11.7"
  }
 },
 "nbformat": 4,
 "nbformat_minor": 5
}
