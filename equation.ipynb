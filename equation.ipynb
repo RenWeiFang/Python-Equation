{
 "cells": [
  {
   "cell_type": "code",
   "execution_count": 1,
   "id": "9c630c83-c477-4b23-8613-2db93b04c0f8",
   "metadata": {},
   "outputs": [
    {
     "name": "stdout",
     "output_type": "stream",
     "text": [
      "36\n"
     ]
    }
   ],
   "source": [
    "# x^2\n",
    "\n",
    "lamret=lambda  x: x**2\n",
    "print(lamret(6))"
   ]
  },
  {
   "cell_type": "code",
   "execution_count": 2,
   "id": "6a344404-2882-4cce-a0ed-a3bc18d197f9",
   "metadata": {},
   "outputs": [
    {
     "data": {
      "text/plain": [
       "function"
      ]
     },
     "execution_count": 2,
     "metadata": {},
     "output_type": "execute_result"
    }
   ],
   "source": [
    "type(lamret)"
   ]
  },
  {
   "cell_type": "code",
   "execution_count": 5,
   "id": "b6917d29-fd06-42b9-92f6-5ee0808ba772",
   "metadata": {},
   "outputs": [
    {
     "name": "stdout",
     "output_type": "stream",
     "text": [
      "2.0\n"
     ]
    }
   ],
   "source": [
    "#f(x,y,z)=(x-y)^z/2\n",
    "\n",
    "lambret2=lambda x, y, z:  ((x-y)**z)/2\n",
    "print(lambret2(3,1,2))"
   ]
  },
  {
   "cell_type": "code",
   "execution_count": 7,
   "id": "dc3e8189-482f-4509-a28c-8ee281b9da01",
   "metadata": {},
   "outputs": [
    {
     "name": "stdout",
     "output_type": "stream",
     "text": [
      "16\n"
     ]
    }
   ],
   "source": [
    "lambret3=lambda x, y: x**2 if x>y else 1/x**2\n",
    "print(lambret3(4,3))"
   ]
  },
  {
   "cell_type": "code",
   "execution_count": 8,
   "id": "e36d5992-ea2c-46bf-b15a-ae04bebb4804",
   "metadata": {},
   "outputs": [
    {
     "name": "stdout",
     "output_type": "stream",
     "text": [
      "0.0625\n"
     ]
    }
   ],
   "source": [
    "print(lambret3(4,5))"
   ]
  },
  {
   "cell_type": "code",
   "execution_count": 9,
   "id": "b4e624b6-5d52-4ea2-98f5-d90f91e875a0",
   "metadata": {},
   "outputs": [
    {
     "name": "stdout",
     "output_type": "stream",
     "text": [
      "呼叫函數(x**2)+(4*x)+6 38\n"
     ]
    }
   ],
   "source": [
    "# x^2+4x+6\n",
    "\n",
    "def polyequ(x):\n",
    "    return(x**2)+(4*x)+6\n",
    "sample=4\n",
    "result=polyequ(sample)\n",
    "print('呼叫函數(x**2)+(4*x)+6' , result)"
   ]
  },
  {
   "cell_type": "code",
   "execution_count": null,
   "id": "2be18397-a080-4557-a65b-ce4f71476609",
   "metadata": {},
   "outputs": [],
   "source": []
  }
 ],
 "metadata": {
  "kernelspec": {
   "display_name": "Python 3 (ipykernel)",
   "language": "python",
   "name": "python3"
  },
  "language_info": {
   "codemirror_mode": {
    "name": "ipython",
    "version": 3
   },
   "file_extension": ".py",
   "mimetype": "text/x-python",
   "name": "python",
   "nbconvert_exporter": "python",
   "pygments_lexer": "ipython3",
   "version": "3.11.7"
  }
 },
 "nbformat": 4,
 "nbformat_minor": 5
}
